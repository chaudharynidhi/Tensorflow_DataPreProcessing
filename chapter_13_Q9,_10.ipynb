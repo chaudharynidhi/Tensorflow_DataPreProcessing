{
  "nbformat": 4,
  "nbformat_minor": 0,
  "metadata": {
    "colab": {
      "name": "chapter 13: Q9, 10",
      "provenance": [],
      "authorship_tag": "ABX9TyN4VGuFY44Hc4p6RRf1Y6GC",
      "include_colab_link": true
    },
    "kernelspec": {
      "name": "python3",
      "display_name": "Python 3"
    },
    "language_info": {
      "name": "python"
    }
  },
  "cells": [
    {
      "cell_type": "markdown",
      "metadata": {
        "id": "view-in-github",
        "colab_type": "text"
      },
      "source": [
        "<a href=\"https://colab.research.google.com/github/chaudharynidhi/Tensorflow_DataPreProcessing/blob/master/chapter_13_Q9%2C_10.ipynb\" target=\"_parent\"><img src=\"https://colab.research.google.com/assets/colab-badge.svg\" alt=\"Open In Colab\"/></a>"
      ]
    },
    {
      "cell_type": "code",
      "metadata": {
        "id": "ee9mKwvsHa1Q"
      },
      "source": [
        "import tensorflow as tf\n",
        "from tensorflow import keras\n",
        "import numpy as np"
      ],
      "execution_count": null,
      "outputs": []
    },
    {
      "cell_type": "code",
      "metadata": {
        "colab": {
          "base_uri": "https://localhost:8080/"
        },
        "id": "ji2Jl_E0He-G",
        "outputId": "4f83ddd7-3b1f-43bd-efa1-815f6952abd2"
      },
      "source": [
        "(X_train_full, y_train_full), (X_test, y_test) = keras.datasets.fashion_mnist.load_data()"
      ],
      "execution_count": null,
      "outputs": [
        {
          "output_type": "stream",
          "text": [
            "Downloading data from https://storage.googleapis.com/tensorflow/tf-keras-datasets/train-labels-idx1-ubyte.gz\n",
            "32768/29515 [=================================] - 0s 0us/step\n",
            "Downloading data from https://storage.googleapis.com/tensorflow/tf-keras-datasets/train-images-idx3-ubyte.gz\n",
            "26427392/26421880 [==============================] - 0s 0us/step\n",
            "Downloading data from https://storage.googleapis.com/tensorflow/tf-keras-datasets/t10k-labels-idx1-ubyte.gz\n",
            "8192/5148 [===============================================] - 0s 0us/step\n",
            "Downloading data from https://storage.googleapis.com/tensorflow/tf-keras-datasets/t10k-images-idx3-ubyte.gz\n",
            "4423680/4422102 [==============================] - 0s 0us/step\n"
          ],
          "name": "stdout"
        }
      ]
    },
    {
      "cell_type": "code",
      "metadata": {
        "id": "wKaVgnQTIeGU"
      },
      "source": [
        "X_train, y_train = X_train_full[5000:], y_train_full[5000:]\n",
        "X_valid, y_valid = X_train_full[:5000], y_train_full[:5000]"
      ],
      "execution_count": null,
      "outputs": []
    },
    {
      "cell_type": "code",
      "metadata": {
        "id": "mmsicq_XIwCi"
      },
      "source": [
        "train_shuffled = tf.data.Dataset.from_tensor_slices((X_train, y_train)).shuffle(len(X_train))\n",
        "valid = tf.data.Dataset.from_tensor_slices((X_valid, y_valid))\n",
        "test = tf.data.Dataset.from_tensor_slices((X_test, y_test))"
      ],
      "execution_count": null,
      "outputs": []
    },
    {
      "cell_type": "code",
      "metadata": {
        "id": "hQGb73yDJrZQ"
      },
      "source": [
        "def create_example(image, label):\n",
        "  image = tf.io.serialize_tensor(image)\n",
        "\n",
        "  return Example(features = Features(\n",
        "      feature={\n",
        "          \"image\": Feature(bytes_list = BytesList(value=[image.numpy()])),\n",
        "          \"label\": Feature(int64_list=Int64List(value=[label])),\n",
        "      }\n",
        "  ))"
      ],
      "execution_count": null,
      "outputs": []
    },
    {
      "cell_type": "code",
      "metadata": {
        "id": "Q786eaLHTalm"
      },
      "source": [
        "Example = tf.train.Example\n",
        "Features = tf.train.Features\n",
        "Feature = tf.train.Feature\n",
        "BytesList = tf.train.BytesList\n",
        "Int64List = tf.train.Int64List"
      ],
      "execution_count": null,
      "outputs": []
    },
    {
      "cell_type": "code",
      "metadata": {
        "colab": {
          "base_uri": "https://localhost:8080/"
        },
        "id": "NCeHXriOTDkP",
        "outputId": "e88a27f8-b6c0-41d2-fd65-ffe32b71dbd1"
      },
      "source": [
        "for image, label in train_shuffled.take(1):\n",
        "  print(create_example(image, label))"
      ],
      "execution_count": null,
      "outputs": [
        {
          "output_type": "stream",
          "text": [
            "features {\n",
            "  feature {\n",
            "    key: \"image\"\n",
            "    value {\n",
            "      bytes_list {\n",
            "        value: \"\\010\\004\\022\\010\\022\\002\\010\\034\\022\\002\\010\\034\\\"\\220\\006\\000\\000\\000\\000\\000\\000\\000\\000\\000\\000\\000\\000\\000\\000\\000\\000\\000\\000\\000\\000\\000\\000\\000\\000\\000\\000\\000\\000\\000\\000\\000\\000\\000\\000\\000\\000\\000\\000\\000\\000\\000\\000\\000\\000\\000\\000\\000\\000\\000\\000\\000\\000\\000\\000\\000\\000\\000\\000\\000\\000\\000\\000\\000\\000\\000\\000\\000\\000\\000\\000\\000\\000\\000\\000\\000\\000\\000\\000\\000\\000\\000\\000\\000\\000\\000\\000\\000\\000\\000\\000\\000\\000\\000\\000\\000\\000\\000\\000\\000\\000\\000\\000\\000\\000\\000\\000\\000\\000\\000\\000\\000\\000\\000\\000\\000\\000\\000\\000\\000\\000\\000\\000\\000\\000\\000\\000\\000\\000\\000\\000\\000\\000\\000\\000\\000\\000\\000\\000\\000\\000\\000\\000\\000\\000\\000\\000\\000\\000\\000\\000\\000\\000\\000\\000\\000\\000\\000\\000\\000\\000\\000\\000\\000\\000\\000\\000\\000\\000\\000\\000\\000\\000\\000\\000\\000\\000\\000\\000\\000\\000\\000\\000\\000\\000\\000\\000\\000\\000\\000\\000\\000\\000\\000\\000\\000\\000\\000\\000\\000\\000\\000\\000\\000\\000\\000\\000\\000\\000\\000\\000\\000\\000\\000\\000\\000\\000\\000\\000\\000\\000\\000\\000\\000\\000\\000\\000\\000\\000\\000\\000\\000\\000\\000\\000\\000\\000\\004\\000\\000\\000\\032\\201\\000\\000\\001\\000\\000\\000\\000\\000\\000\\000\\000\\000\\000\\000\\000\\000\\000\\000\\000\\000\\003\\001\\000\\0006\\257\\247\\273e\\000\\000\\000\\000\\000\\0000<\\000\\000\\000\\000\\000\\000\\000\\000\\000\\002\\004\\000\\000\\006\\245\\226^\\221\\247\\243\\024\\000\\000\\000\\000;\\314\\302\\000\\000\\000\\000\\000\\001\\004\\005\\006\\000\\000\\000S\\304Oh\\223\\216\\245\\330\\340\\202;\\004\\035\\232\\327\\271\\000\\001\\004\\004\\003\\000\\000\\000\\000\\000N\\264\\2454i\\265\\317\\325\\267\\223\\316\\375\\377\\360\\351\\310\\315\\322\\023\\000\\000\\000\\000\\000\\031Pt\\236\\273;\\000\\203\\267\\261\\264\\313\\343\\331\\224\\202\\247\\270\\245\\254\\306\\351\\023\\000;m\\222\\256\\253\\223j6\\000\\013\\277\\276\\240\\266\\272\\270\\307\\340\\337\\270\\216\\202\\207\\256\\321\\344\\0078\\246k\\030\\000\\000\\000\\022r\\253\\337\\310\\251\\274\\300\\305\\310\\314\\306\\310\\330\\320\\332\\327\\277\\324\\3425|\\273\\273\\236\\204nm\\236\\276\\321\\330\\326\\323\\317\\317\\320\\312\\301\\300\\305\\311\\307\\326\\333\\267\\310\\313\\211/\\252\\303\\320\\322\\346\\342\\325\\327\\336\\340\\331\\302\\276\\252\\247\\251\\247\\245\\250\\263\\256\\242\\262\\256\\272\\3524\\0002\\205\\255\\262\\252\\270\\300\\276\\272\\262\\244\\262\\274\\302\\317\\313\\320\\317\\302\\263\\311\\317\\306\\301\\343\\221\\000\\000\\000\\000\\t@r[u\\254\\244\\254\\230\\257\\246l`zyV\\241\\243\\245ta\\234r\\000\\000\\000\\000\\000\\000\\000\\000\\000\\000\\000\\000\\000\\000\\000\\000\\000\\000\\000\\000\\000\\000\\000\\000\\000\\000\\000\\000\\000\\000\\000\\000\\000\\000\\000\\000\\000\\000\\000\\000\\000\\000\\000\\000\\000\\000\\000\\000\\000\\000\\000\\000\\000\\000\\000\\000\\000\\000\\000\\000\\000\\000\\000\\000\\000\\000\\000\\000\\000\\000\\000\\000\\000\\000\\000\\000\\000\\000\\000\\000\\000\\000\\000\\000\\000\\000\\000\\000\\000\\000\\000\\000\\000\\000\\000\\000\\000\\000\\000\\000\\000\\000\\000\\000\\000\\000\\000\\000\\000\\000\\000\\000\\000\\000\\000\\000\\000\\000\\000\\000\\000\\000\\000\\000\\000\\000\\000\\000\\000\\000\\000\\000\\000\\000\\000\\000\\000\\000\\000\\000\\000\\000\\000\\000\\000\\000\\000\\000\\000\\000\\000\\000\\000\\000\\000\\000\\000\\000\\000\\000\\000\\000\\000\\000\\000\\000\\000\\000\\000\\000\\000\\000\\000\\000\\000\\000\\000\\000\\000\\000\\000\\000\\000\\000\\000\\000\\000\\000\\000\\000\\000\\000\\000\\000\\000\\000\\000\\000\\000\\000\\000\\000\\000\\000\\000\\000\\000\\000\\000\\000\\000\\000\\000\\000\\000\\000\\000\\000\\000\\000\\000\\000\\000\\000\\000\\000\"\n",
            "      }\n",
            "    }\n",
            "  }\n",
            "  feature {\n",
            "    key: \"label\"\n",
            "    value {\n",
            "      int64_list {\n",
            "        value: 7\n",
            "      }\n",
            "    }\n",
            "  }\n",
            "}\n",
            "\n"
          ],
          "name": "stdout"
        }
      ]
    },
    {
      "cell_type": "code",
      "metadata": {
        "id": "R-8v7FtcTOAv"
      },
      "source": [
        "from contextlib import ExitStack\n",
        "\n",
        "def write_tfrecords(dataset, name, n_shards = 10):\n",
        "  paths = [\"{}.tfrecord-{:05d}-of-{:05d}\".format(name, index, n_shards) for index in range(n_shards)]\n",
        "\n",
        "  with ExitStack() as stack:\n",
        "    writers = [stack.enter_context(tf.io.TFRecordWriter(path)) for path in paths]\n",
        "    for index, (image,label) in dataset.enumerate():\n",
        "      shard = index % n_shards\n",
        "      example = create_example(image, label)\n",
        "      writers[shard].write(example.SerializeToString())\n",
        "\n",
        "  return paths"
      ],
      "execution_count": null,
      "outputs": []
    },
    {
      "cell_type": "code",
      "metadata": {
        "id": "whbY3UtoXqwI"
      },
      "source": [
        "train_filepaths = write_tfrecords(train_shuffled, \"my_train_tf_record\")\n",
        "valid_filepaths = write_tfrecords(valid, \"my_valid_tf_record\")\n",
        "test_filepaths = write_tfrecords(test, \"my_test_tf_record\")"
      ],
      "execution_count": null,
      "outputs": []
    },
    {
      "cell_type": "code",
      "metadata": {
        "id": "zBopW8V7YHZ6"
      },
      "source": [
        "def preprocess(tfrecord):\n",
        "  feature_descriptions = {\n",
        "      \"image\": tf.io.FixedLenFeature([], tf.string, default_value=\"\"),\n",
        "      \"label\": tf.io.FixedLenFeature([], tf.int64, default_value = -1)\n",
        "  }\n",
        "  example = tf.io.parse_single_example(tfrecord, feature_descriptions)\n",
        "  image = tf.io.parse_tensor(example[\"image\"], out_type=tf.uint8)\n",
        "  image = tf.reshape(image, shape=[28,28])\n",
        "  return image, example['label']\n",
        "\n",
        "def mnist_dataset(filepaths, n_read_threads=5, shuffle_buffer_size = None, n_parse_threads = 5, batch_size=32, cache=True):\n",
        "  dataset = tf.data.TFRecordDataset(filepaths, num_parallel_reads=n_read_threads)\n",
        "  if cache:\n",
        "    dataset = dataset.cache()\n",
        "  if shuffle_buffer_size:\n",
        "    dataset = dataset.shuffle(shuffle_buffer_size)\n",
        "  dataset = dataset.map(preprocess, num_parallel_calls=n_parse_threads)\n",
        "  dataset = dataset.batch(batch_size)\n",
        "  return dataset.prefetch(1)"
      ],
      "execution_count": null,
      "outputs": []
    },
    {
      "cell_type": "code",
      "metadata": {
        "id": "T10Y8mgUbz55"
      },
      "source": [
        "train_set = mnist_dataset(train_filepaths, shuffle_buffer_size=60000)\n",
        "valid_set = mnist_dataset(valid_filepaths)\n",
        "test_set = mnist_dataset(test_filepaths)"
      ],
      "execution_count": null,
      "outputs": []
    },
    {
      "cell_type": "code",
      "metadata": {
        "id": "JaNFsxQ5fzdd"
      },
      "source": [
        "class Standardization(keras.layers.Layer):\n",
        "  def adapt(self,data_sample):\n",
        "    self.mean_ = np.mean(data_sample, axis=0, keepdims=True)\n",
        "    self.variance_ = np.std(data_sample, axis=0, keepdims=True)\n",
        "  def call(self, inputs):\n",
        "    return (inputs-self.mean_)/(self.variance_+keras.backend.epsilon())"
      ],
      "execution_count": null,
      "outputs": []
    },
    {
      "cell_type": "code",
      "metadata": {
        "id": "oUvoI2Cohfel"
      },
      "source": [
        "standardization = Standardization(input_shape=[28,28])"
      ],
      "execution_count": null,
      "outputs": []
    },
    {
      "cell_type": "code",
      "metadata": {
        "id": "x197mU69hjmw"
      },
      "source": [
        "sample_image_train = train_set.take(1000).map(lambda image, label: image)\n",
        "sample_images = np.concatenate(list(sample_image_train.as_numpy_iterator()), axis=0).astype(np.float32)\n",
        "\n",
        "standardization.adapt(sample_images)\n",
        "\n",
        "model = keras.Sequential([\n",
        "                          standardization,\n",
        "                          keras.layers.Flatten(),\n",
        "                          keras.layers.Dense(100, activation='relu'),\n",
        "                          keras.layers.Dense(10, activation='softmax')\n",
        "])\n",
        "\n",
        "model.compile(loss='sparse_categorical_crossentropy', optimizer = 'nadam', metrics = ['accuracy'])"
      ],
      "execution_count": null,
      "outputs": []
    },
    {
      "cell_type": "code",
      "metadata": {
        "colab": {
          "base_uri": "https://localhost:8080/"
        },
        "id": "ZdcYJ41CjyUt",
        "outputId": "3ad1ac60-b194-48b2-ae7d-58742dce0419"
      },
      "source": [
        "model.fit(train_set, epochs=10, validation_data=valid_set)"
      ],
      "execution_count": null,
      "outputs": [
        {
          "output_type": "stream",
          "text": [
            "Epoch 1/10\n",
            "1719/1719 [==============================] - 8s 4ms/step - loss: 0.5466 - accuracy: 0.8098 - val_loss: 0.3685 - val_accuracy: 0.8762\n",
            "Epoch 2/10\n",
            "1719/1719 [==============================] - 7s 4ms/step - loss: 0.3345 - accuracy: 0.8797 - val_loss: 0.3647 - val_accuracy: 0.8780\n",
            "Epoch 3/10\n",
            "1719/1719 [==============================] - 7s 4ms/step - loss: 0.2882 - accuracy: 0.8942 - val_loss: 0.3622 - val_accuracy: 0.8766\n",
            "Epoch 4/10\n",
            "1719/1719 [==============================] - 7s 4ms/step - loss: 0.2657 - accuracy: 0.9043 - val_loss: 0.3554 - val_accuracy: 0.8792\n",
            "Epoch 5/10\n",
            "1719/1719 [==============================] - 7s 4ms/step - loss: 0.2358 - accuracy: 0.9141 - val_loss: 0.3619 - val_accuracy: 0.8794\n",
            "Epoch 6/10\n",
            "1719/1719 [==============================] - 7s 4ms/step - loss: 0.2275 - accuracy: 0.9159 - val_loss: 0.3699 - val_accuracy: 0.8778\n",
            "Epoch 7/10\n",
            "1719/1719 [==============================] - 7s 4ms/step - loss: 0.2089 - accuracy: 0.9215 - val_loss: 0.3763 - val_accuracy: 0.8812\n",
            "Epoch 8/10\n",
            "1719/1719 [==============================] - 7s 4ms/step - loss: 0.1929 - accuracy: 0.9301 - val_loss: 0.3774 - val_accuracy: 0.8838\n",
            "Epoch 9/10\n",
            "1719/1719 [==============================] - 7s 4ms/step - loss: 0.1882 - accuracy: 0.9324 - val_loss: 0.3772 - val_accuracy: 0.8920\n",
            "Epoch 10/10\n",
            "1719/1719 [==============================] - 7s 4ms/step - loss: 0.1767 - accuracy: 0.9351 - val_loss: 0.3789 - val_accuracy: 0.8880\n"
          ],
          "name": "stdout"
        },
        {
          "output_type": "execute_result",
          "data": {
            "text/plain": [
              "<tensorflow.python.keras.callbacks.History at 0x7f0be52036d0>"
            ]
          },
          "metadata": {
            "tags": []
          },
          "execution_count": 47
        }
      ]
    },
    {
      "cell_type": "code",
      "metadata": {
        "id": "99DgsvSrkJmp"
      },
      "source": [
        ""
      ],
      "execution_count": null,
      "outputs": []
    }
  ]
}